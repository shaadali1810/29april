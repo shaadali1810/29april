{
 "cells": [
  {
   "cell_type": "code",
   "execution_count": 1,
   "id": "49e529ee-066d-49a2-8e7c-61440c2fa5c8",
   "metadata": {},
   "outputs": [],
   "source": [
    "#1Clustering helps to identify patterns in data and is useful for exploratory data analysis, customer segmentation, anomaly detection, pattern recognition, and image segmentation. It is a powerful tool for understanding data and can help to reveal insights that may not be apparent through other methods of analysis."
   ]
  },
  {
   "cell_type": "code",
   "execution_count": 2,
   "id": "2cf3bb96-3ef2-484a-9ac5-6e47cb7fe5b3",
   "metadata": {},
   "outputs": [],
   "source": [
    "#2DBSCAN is a density-based clustering algorithm that segregates data points into high-density regions separated by regions of low density. Unlike k-means or hierarchical clustering, which require specifying the number of clusters beforehand, DBSCAN automatically determines clusters based on the density of data points."
   ]
  },
  {
   "cell_type": "code",
   "execution_count": 3,
   "id": "72c05e6e-7a66-4e2b-a2b0-792233d205dd",
   "metadata": {},
   "outputs": [],
   "source": [
    "#3 epsilon (ε): To choose the value of ε, a k-distance graph is plotted by ordering the distance to the k=MinPts-1 nearest neighbor from the largest to the smallest value. Good values of ε are where the plot shows an “elbow”. If ε is too small, a large portion of the data will not be clustered."
   ]
  },
  {
   "cell_type": "code",
   "execution_count": 4,
   "id": "8ecc0ffb-6f9d-425a-96bb-b47e9f1ec9f1",
   "metadata": {},
   "outputs": [],
   "source": [
    "#4 DBSCAN groups together data points that are close to each other based on a distance measure and a minimum number of points. It separates regions with low density from those with high density. Data points in low-density regions, which are not assigned to any cluster, are treated as outliers or \"noise\""
   ]
  },
  {
   "cell_type": "code",
   "execution_count": 5,
   "id": "20a618c4-fc2a-4005-9abb-a56edea3f4ac",
   "metadata": {},
   "outputs": [],
   "source": [
    "#5 Differences between the two algorithms: DBSCAN is a density-based clustering algorithm, whereas K-Means is a centroid-based clustering algorithm. DBSCAN can discover clusters of arbitrary shapes, whereas K-Means assumes that the clusters are spherical."
   ]
  },
  {
   "cell_type": "code",
   "execution_count": 6,
   "id": "10dac03c-7d83-413d-a7e8-e402973a3ac0",
   "metadata": {},
   "outputs": [],
   "source": [
    "#6 he algorithm works well even in thousands of dimensions, the problem is that it is very slow. Methods such as spatial indexes that are commonly used to speed up nearest neighbor classification fail in high dimensions. So NN does not have a problem, spatial indexes do."
   ]
  },
  {
   "cell_type": "code",
   "execution_count": 7,
   "id": "25c32adf-43e6-4e94-b230-a38e8bc5d45a",
   "metadata": {},
   "outputs": [],
   "source": [
    "#7  DBSCAN can find clusters of different shapes and sizes. But it has trouble finding clusters of different densities because it depends on a global value for its parameter Eps. Several methods have been proposed to tackle this problem, each method has its drawbacks."
   ]
  },
  {
   "cell_type": "code",
   "execution_count": 8,
   "id": "b4c0e6a3-7fa4-4672-8a34-2c9f74e2072b",
   "metadata": {},
   "outputs": [],
   "source": [
    "#8 Assessing cluster quality and validity involves evaluating the clustering solution against specific metrics and methods, such as silhouette coefficient, elbow method, Dunn index, and Calinski-Harabasz index, to determine how well the solution fits the data and how useful it is for the intended purpose."
   ]
  },
  {
   "cell_type": "code",
   "execution_count": 9,
   "id": "234bd68e-3940-4970-b808-c56edab40d4a",
   "metadata": {},
   "outputs": [],
   "source": [
    "#9 Semi-supervised clustering (SSC), a technique integrating semi-supervised learning and clustering analysis, incorporates the given prior information (e.g., class labels and pairwise constraints) into clustering to guide the clustering process and improve the performance "
   ]
  },
  {
   "cell_type": "code",
   "execution_count": 10,
   "id": "023ebfe6-81f2-4dc4-921f-44864bc6f0a6",
   "metadata": {},
   "outputs": [],
   "source": [
    "#10 DBSCAN creates a circle of epsilon radius around every data point and classifies them into Core point, Border point, and Noise. A data point is a Core point if the circle around it contains at least 'minPoints' number of points."
   ]
  },
  {
   "cell_type": "code",
   "execution_count": null,
   "id": "1d969235-8514-47db-ba4a-ce096eeef6c3",
   "metadata": {},
   "outputs": [],
   "source": [
    "import pand"
   ]
  }
 ],
 "metadata": {
  "kernelspec": {
   "display_name": "Python 3 (ipykernel)",
   "language": "python",
   "name": "python3"
  },
  "language_info": {
   "codemirror_mode": {
    "name": "ipython",
    "version": 3
   },
   "file_extension": ".py",
   "mimetype": "text/x-python",
   "name": "python",
   "nbconvert_exporter": "python",
   "pygments_lexer": "ipython3",
   "version": "3.10.8"
  }
 },
 "nbformat": 4,
 "nbformat_minor": 5
}
